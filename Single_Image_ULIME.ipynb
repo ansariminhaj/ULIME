{
  "nbformat": 4,
  "nbformat_minor": 0,
  "metadata": {
    "colab": {
      "name": "ULIME.ipynb",
      "provenance": [],
      "collapsed_sections": [],
      "machine_shape": "hm",
      "authorship_tag": "ABX9TyPo4SvC3aHybSobKSrlkhb4",
      "include_colab_link": true
    },
    "kernelspec": {
      "name": "python3",
      "display_name": "Python 3"
    },
    "language_info": {
      "name": "python"
    },
    "accelerator": "GPU",
    "widgets": {
      "application/vnd.jupyter.widget-state+json": {
        "5b9159f10294406699650526b95984e0": {
          "model_module": "@jupyter-widgets/controls",
          "model_name": "HBoxModel",
          "model_module_version": "1.5.0",
          "state": {
            "_view_name": "HBoxView",
            "_dom_classes": [],
            "_model_name": "HBoxModel",
            "_view_module": "@jupyter-widgets/controls",
            "_model_module_version": "1.5.0",
            "_view_count": null,
            "_view_module_version": "1.5.0",
            "box_style": "",
            "layout": "IPY_MODEL_963a85bfd495434ab4ead09573a0c7fa",
            "_model_module": "@jupyter-widgets/controls",
            "children": [
              "IPY_MODEL_75fe95179f6f4cbebbfc2fcebae9680d",
              "IPY_MODEL_956915ab41f04eab81c48c7a6b0ba02c",
              "IPY_MODEL_8ceb6a1fdce34fa69a9315f5955fbe36"
            ]
          }
        },
        "963a85bfd495434ab4ead09573a0c7fa": {
          "model_module": "@jupyter-widgets/base",
          "model_name": "LayoutModel",
          "model_module_version": "1.2.0",
          "state": {
            "_view_name": "LayoutView",
            "grid_template_rows": null,
            "right": null,
            "justify_content": null,
            "_view_module": "@jupyter-widgets/base",
            "overflow": null,
            "_model_module_version": "1.2.0",
            "_view_count": null,
            "flex_flow": null,
            "width": null,
            "min_width": null,
            "border": null,
            "align_items": null,
            "bottom": null,
            "_model_module": "@jupyter-widgets/base",
            "top": null,
            "grid_column": null,
            "overflow_y": null,
            "overflow_x": null,
            "grid_auto_flow": null,
            "grid_area": null,
            "grid_template_columns": null,
            "flex": null,
            "_model_name": "LayoutModel",
            "justify_items": null,
            "grid_row": null,
            "max_height": null,
            "align_content": null,
            "visibility": null,
            "align_self": null,
            "height": null,
            "min_height": null,
            "padding": null,
            "grid_auto_rows": null,
            "grid_gap": null,
            "max_width": null,
            "order": null,
            "_view_module_version": "1.2.0",
            "grid_template_areas": null,
            "object_position": null,
            "object_fit": null,
            "grid_auto_columns": null,
            "margin": null,
            "display": null,
            "left": null
          }
        },
        "75fe95179f6f4cbebbfc2fcebae9680d": {
          "model_module": "@jupyter-widgets/controls",
          "model_name": "HTMLModel",
          "model_module_version": "1.5.0",
          "state": {
            "_view_name": "HTMLView",
            "style": "IPY_MODEL_59fb9a45e82145feb0408ad89be6c2c2",
            "_dom_classes": [],
            "description": "",
            "_model_name": "HTMLModel",
            "placeholder": "​",
            "_view_module": "@jupyter-widgets/controls",
            "_model_module_version": "1.5.0",
            "value": "100%",
            "_view_count": null,
            "_view_module_version": "1.5.0",
            "description_tooltip": null,
            "_model_module": "@jupyter-widgets/controls",
            "layout": "IPY_MODEL_8a18032542724df6a0b8c31cf5d0c8e5"
          }
        },
        "956915ab41f04eab81c48c7a6b0ba02c": {
          "model_module": "@jupyter-widgets/controls",
          "model_name": "FloatProgressModel",
          "model_module_version": "1.5.0",
          "state": {
            "_view_name": "ProgressView",
            "style": "IPY_MODEL_51c4bb80ab9c405080eec5e4c92b5235",
            "_dom_classes": [],
            "description": "",
            "_model_name": "FloatProgressModel",
            "bar_style": "success",
            "max": 108949747,
            "_view_module": "@jupyter-widgets/controls",
            "_model_module_version": "1.5.0",
            "value": 108949747,
            "_view_count": null,
            "_view_module_version": "1.5.0",
            "orientation": "horizontal",
            "min": 0,
            "description_tooltip": null,
            "_model_module": "@jupyter-widgets/controls",
            "layout": "IPY_MODEL_e0c71f6f954042ab89d074be1f2f58b0"
          }
        },
        "8ceb6a1fdce34fa69a9315f5955fbe36": {
          "model_module": "@jupyter-widgets/controls",
          "model_name": "HTMLModel",
          "model_module_version": "1.5.0",
          "state": {
            "_view_name": "HTMLView",
            "style": "IPY_MODEL_46db59e996c24cf48cd177a9e69823dd",
            "_dom_classes": [],
            "description": "",
            "_model_name": "HTMLModel",
            "placeholder": "​",
            "_view_module": "@jupyter-widgets/controls",
            "_model_module_version": "1.5.0",
            "value": " 104M/104M [00:01&lt;00:00, 61.2MB/s]",
            "_view_count": null,
            "_view_module_version": "1.5.0",
            "description_tooltip": null,
            "_model_module": "@jupyter-widgets/controls",
            "layout": "IPY_MODEL_da9b8920ef79452fa7d872555a2eacd9"
          }
        },
        "59fb9a45e82145feb0408ad89be6c2c2": {
          "model_module": "@jupyter-widgets/controls",
          "model_name": "DescriptionStyleModel",
          "model_module_version": "1.5.0",
          "state": {
            "_view_name": "StyleView",
            "_model_name": "DescriptionStyleModel",
            "description_width": "",
            "_view_module": "@jupyter-widgets/base",
            "_model_module_version": "1.5.0",
            "_view_count": null,
            "_view_module_version": "1.2.0",
            "_model_module": "@jupyter-widgets/controls"
          }
        },
        "8a18032542724df6a0b8c31cf5d0c8e5": {
          "model_module": "@jupyter-widgets/base",
          "model_name": "LayoutModel",
          "model_module_version": "1.2.0",
          "state": {
            "_view_name": "LayoutView",
            "grid_template_rows": null,
            "right": null,
            "justify_content": null,
            "_view_module": "@jupyter-widgets/base",
            "overflow": null,
            "_model_module_version": "1.2.0",
            "_view_count": null,
            "flex_flow": null,
            "width": null,
            "min_width": null,
            "border": null,
            "align_items": null,
            "bottom": null,
            "_model_module": "@jupyter-widgets/base",
            "top": null,
            "grid_column": null,
            "overflow_y": null,
            "overflow_x": null,
            "grid_auto_flow": null,
            "grid_area": null,
            "grid_template_columns": null,
            "flex": null,
            "_model_name": "LayoutModel",
            "justify_items": null,
            "grid_row": null,
            "max_height": null,
            "align_content": null,
            "visibility": null,
            "align_self": null,
            "height": null,
            "min_height": null,
            "padding": null,
            "grid_auto_rows": null,
            "grid_gap": null,
            "max_width": null,
            "order": null,
            "_view_module_version": "1.2.0",
            "grid_template_areas": null,
            "object_position": null,
            "object_fit": null,
            "grid_auto_columns": null,
            "margin": null,
            "display": null,
            "left": null
          }
        },
        "51c4bb80ab9c405080eec5e4c92b5235": {
          "model_module": "@jupyter-widgets/controls",
          "model_name": "ProgressStyleModel",
          "model_module_version": "1.5.0",
          "state": {
            "_view_name": "StyleView",
            "_model_name": "ProgressStyleModel",
            "description_width": "",
            "_view_module": "@jupyter-widgets/base",
            "_model_module_version": "1.5.0",
            "_view_count": null,
            "_view_module_version": "1.2.0",
            "bar_color": null,
            "_model_module": "@jupyter-widgets/controls"
          }
        },
        "e0c71f6f954042ab89d074be1f2f58b0": {
          "model_module": "@jupyter-widgets/base",
          "model_name": "LayoutModel",
          "model_module_version": "1.2.0",
          "state": {
            "_view_name": "LayoutView",
            "grid_template_rows": null,
            "right": null,
            "justify_content": null,
            "_view_module": "@jupyter-widgets/base",
            "overflow": null,
            "_model_module_version": "1.2.0",
            "_view_count": null,
            "flex_flow": null,
            "width": null,
            "min_width": null,
            "border": null,
            "align_items": null,
            "bottom": null,
            "_model_module": "@jupyter-widgets/base",
            "top": null,
            "grid_column": null,
            "overflow_y": null,
            "overflow_x": null,
            "grid_auto_flow": null,
            "grid_area": null,
            "grid_template_columns": null,
            "flex": null,
            "_model_name": "LayoutModel",
            "justify_items": null,
            "grid_row": null,
            "max_height": null,
            "align_content": null,
            "visibility": null,
            "align_self": null,
            "height": null,
            "min_height": null,
            "padding": null,
            "grid_auto_rows": null,
            "grid_gap": null,
            "max_width": null,
            "order": null,
            "_view_module_version": "1.2.0",
            "grid_template_areas": null,
            "object_position": null,
            "object_fit": null,
            "grid_auto_columns": null,
            "margin": null,
            "display": null,
            "left": null
          }
        },
        "46db59e996c24cf48cd177a9e69823dd": {
          "model_module": "@jupyter-widgets/controls",
          "model_name": "DescriptionStyleModel",
          "model_module_version": "1.5.0",
          "state": {
            "_view_name": "StyleView",
            "_model_name": "DescriptionStyleModel",
            "description_width": "",
            "_view_module": "@jupyter-widgets/base",
            "_model_module_version": "1.5.0",
            "_view_count": null,
            "_view_module_version": "1.2.0",
            "_model_module": "@jupyter-widgets/controls"
          }
        },
        "da9b8920ef79452fa7d872555a2eacd9": {
          "model_module": "@jupyter-widgets/base",
          "model_name": "LayoutModel",
          "model_module_version": "1.2.0",
          "state": {
            "_view_name": "LayoutView",
            "grid_template_rows": null,
            "right": null,
            "justify_content": null,
            "_view_module": "@jupyter-widgets/base",
            "overflow": null,
            "_model_module_version": "1.2.0",
            "_view_count": null,
            "flex_flow": null,
            "width": null,
            "min_width": null,
            "border": null,
            "align_items": null,
            "bottom": null,
            "_model_module": "@jupyter-widgets/base",
            "top": null,
            "grid_column": null,
            "overflow_y": null,
            "overflow_x": null,
            "grid_auto_flow": null,
            "grid_area": null,
            "grid_template_columns": null,
            "flex": null,
            "_model_name": "LayoutModel",
            "justify_items": null,
            "grid_row": null,
            "max_height": null,
            "align_content": null,
            "visibility": null,
            "align_self": null,
            "height": null,
            "min_height": null,
            "padding": null,
            "grid_auto_rows": null,
            "grid_gap": null,
            "max_width": null,
            "order": null,
            "_view_module_version": "1.2.0",
            "grid_template_areas": null,
            "object_position": null,
            "object_fit": null,
            "grid_auto_columns": null,
            "margin": null,
            "display": null,
            "left": null
          }
        }
      }
    }
  },
  "cells": [
    {
      "cell_type": "markdown",
      "metadata": {
        "id": "view-in-github",
        "colab_type": "text"
      },
      "source": [
        "<a href=\"https://colab.research.google.com/github/ansariminhaj/ULIME/blob/main/Single_Image_ULIME.ipynb\" target=\"_parent\"><img src=\"https://colab.research.google.com/assets/colab-badge.svg\" alt=\"Open In Colab\"/></a>"
      ]
    },
    {
      "cell_type": "code",
      "metadata": {
        "id": "B0fAxiEUNhbx"
      },
      "source": [
        "import torch\n",
        "import torchvision\n",
        "import torchvision.transforms as transforms\n",
        "import numpy as np\n",
        "import matplotlib.pyplot as plt\n",
        "import copy\n",
        "import skimage.io \n",
        "import skimage.segmentation\n",
        "import sklearn\n",
        "import sklearn.metrics\n",
        "from sklearn.linear_model import LinearRegression\n",
        "import warnings\n",
        "import sys\n",
        "import torch.optim as optim\n",
        "import cv2, os, math\n",
        "from PIL import Image\n",
        "import requests\n",
        "import ast\n",
        "from itertools import product\n",
        "device = torch.device(\"cuda:0\" if torch.cuda.is_available() else \"cpu\")\n",
        "%matplotlib inline"
      ],
      "execution_count": 2,
      "outputs": []
    },
    {
      "cell_type": "markdown",
      "metadata": {
        "id": "eUKeO3FinWf1"
      },
      "source": [
        "### **Parameters**"
      ]
    },
    {
      "cell_type": "code",
      "metadata": {
        "id": "uo4JrH0RUq-4"
      },
      "source": [
        "SEED = 123\n",
        "RUNS = 10\n",
        "ULIME = 1 #0 LIME, 1 ULIME\n",
        "perturbations_quantity = [10, 50]#, 100, 200]#, 300, 500, 700, 1000, 1500, 2000, 2500, 3000]\n",
        "img_path = 'images/soccer.jpg'\n",
        "img_class = 805\n",
        "save_folder = 'images/soccer_explanation'"
      ],
      "execution_count": 19,
      "outputs": []
    },
    {
      "cell_type": "markdown",
      "metadata": {
        "id": "8EICIlXnni-3"
      },
      "source": [
        "### **Set Seed**"
      ]
    },
    {
      "cell_type": "code",
      "metadata": {
        "id": "1yNLFkcMNkvM"
      },
      "source": [
        "np.random.seed(SEED)"
      ],
      "execution_count": 4,
      "outputs": []
    },
    {
      "cell_type": "markdown",
      "metadata": {
        "id": "kPjxGhjNnqEg"
      },
      "source": [
        "### **Load Model and Transformations/Inverse Transformations**"
      ]
    },
    {
      "cell_type": "code",
      "metadata": {
        "colab": {
          "base_uri": "https://localhost:8080/",
          "height": 66,
          "referenced_widgets": [
            "5b9159f10294406699650526b95984e0",
            "963a85bfd495434ab4ead09573a0c7fa",
            "75fe95179f6f4cbebbfc2fcebae9680d",
            "956915ab41f04eab81c48c7a6b0ba02c",
            "8ceb6a1fdce34fa69a9315f5955fbe36",
            "59fb9a45e82145feb0408ad89be6c2c2",
            "8a18032542724df6a0b8c31cf5d0c8e5",
            "51c4bb80ab9c405080eec5e4c92b5235",
            "e0c71f6f954042ab89d074be1f2f58b0",
            "46db59e996c24cf48cd177a9e69823dd",
            "da9b8920ef79452fa7d872555a2eacd9"
          ]
        },
        "id": "U1-e28r8NmZN",
        "outputId": "72514795-33d4-4b51-8edd-c0d233abaa4b"
      },
      "source": [
        "net1_loaded = torchvision.models.inception_v3(pretrained=True) #Load pretrained model\n",
        "net1_loaded.cuda()\n",
        "\n",
        "#InceptionV3 ImageNet Transformation\n",
        "preprocess = transforms.Compose([\n",
        "    transforms.Resize(299),\n",
        "    transforms.CenterCrop(299),\n",
        "    transforms.ToTensor(),\n",
        "    transforms.Normalize(mean=[0.485, 0.456, 0.406], std=[0.229, 0.224, 0.225]),\n",
        "])\n",
        "\n",
        "inv_preprocess = transforms.Compose([\n",
        "    transforms.ToTensor(),\n",
        "    transforms.Normalize(mean=[-0.485/0.229, -0.456/0.224, -0.406/0.225], std=[1/0.229, 1/0.224, 1/0.225])\n",
        "])"
      ],
      "execution_count": 5,
      "outputs": [
        {
          "output_type": "stream",
          "name": "stderr",
          "text": [
            "Downloading: \"https://download.pytorch.org/models/inception_v3_google-0cc3c7bd.pth\" to /root/.cache/torch/hub/checkpoints/inception_v3_google-0cc3c7bd.pth\n"
          ]
        },
        {
          "output_type": "display_data",
          "data": {
            "application/vnd.jupyter.widget-view+json": {
              "model_id": "5b9159f10294406699650526b95984e0",
              "version_minor": 0,
              "version_major": 2
            },
            "text/plain": [
              "  0%|          | 0.00/104M [00:00<?, ?B/s]"
            ]
          },
          "metadata": {}
        }
      ]
    },
    {
      "cell_type": "markdown",
      "metadata": {
        "id": "FBkW-8A4ZJhR"
      },
      "source": [
        "### **Load Image and Superpixilize**"
      ]
    },
    {
      "cell_type": "code",
      "metadata": {
        "colab": {
          "base_uri": "https://localhost:8080/",
          "height": 496
        },
        "id": "7mn0umIhPWY3",
        "outputId": "c242a59a-b0ba-4e2a-ba0e-810530032af8"
      },
      "source": [
        "Xi = Image.open(img_path)\n",
        "img_tensor = preprocess(Xi)\n",
        "img_batch = img_tensor.unsqueeze_(0).float()\n",
        "img_batch = img_batch.to(device)\n",
        "img_batch_clone = img_batch.clone()\n",
        "img_for_perturbation = img_batch_clone.squeeze_(0).cpu().permute(1, 2, 0).numpy() \n",
        "\n",
        "superpixels = skimage.segmentation.quickshift(img_for_perturbation.astype('float'), kernel_size=8,max_dist=100, ratio=0.1) #for cat\n",
        "num_superpixels = np.unique(superpixels).shape[0]\n",
        "print(num_superpixels)\n",
        "\n",
        "i_view = inv_preprocess(img_for_perturbation)\n",
        "i_view = i_view.squeeze_(0).cpu().permute(1, 2, 0).numpy() \n",
        "\n",
        "plt.imshow(skimage.segmentation.mark_boundaries(i_view, superpixels))\n",
        "plt.axis('off')\n",
        "plt.savefig(save_folder+'/seg_image.png', bbox_inches='tight')\n",
        "plt.show()\n",
        "plt.close()\n",
        "\n",
        "plt.imshow(i_view)\n",
        "plt.axis('off')\n",
        "plt.savefig(save_folder+'/org_image.png', bbox_inches='tight')\n",
        "plt.show()\n",
        "plt.close()"
      ],
      "execution_count": 20,
      "outputs": [
        {
          "output_type": "stream",
          "name": "stdout",
          "text": [
            "20\n"
          ]
        },
        {
          "output_type": "display_data",
          "data": {
            "image/png": "[encoded data removed]",
            "text/plain": [
              "<Figure size 432x288 with 1 Axes>"
            ]
          },
          "metadata": {
            "needs_background": "light"
          }
        },
        {
          "output_type": "display_data",
          "data": {
            "image/png": "[encoded data removed]",
            "text/plain": [
              "<Figure size 432x288 with 1 Axes>"
            ]
          },
          "metadata": {
            "needs_background": "light"
          }
        }
      ]
    },
    {
      "cell_type": "markdown",
      "metadata": {
        "id": "mBIIb-q8ZYgY"
      },
      "source": [
        "### **Run LIME *RUNS* number of times. Normalize and save coefficients.**"
      ]
    },
    {
      "cell_type": "code",
      "metadata": {
        "colab": {
          "base_uri": "https://localhost:8080/"
        },
        "id": "-i9EF5kRN8X0",
        "outputId": "79e740c9-4504-4091-f04f-f9b9139e1353"
      },
      "source": [
        "def perturb_image(img,perturbation,segments):\n",
        "    active_pixels = np.where(perturbation == 1)[0]\n",
        "    mask = np.zeros(segments.shape)\n",
        "    for active in active_pixels:\n",
        "        mask[segments == active] = 1 \n",
        "    perturbed_image = copy.deepcopy(img)\n",
        "    perturbed_image = perturbed_image*mask[:,:,np.newaxis]\n",
        "    return perturbed_image\n",
        "\n",
        "coeffs_list = []\n",
        "for i in range(RUNS):        \n",
        "    print(\"RUN: \", i+1)\n",
        "\n",
        "    probability_list = []\n",
        "    coeff_list = []\n",
        "\n",
        "    for p in perturbations_quantity:\n",
        "        num_perturb = p\n",
        "        perturbations = np.random.binomial(1, 0.5, size=(num_perturb, num_superpixels))\n",
        "        perturbations = np.array(list(set(map(tuple, perturbations)))) #Remove Duplicates\n",
        "\n",
        "        predictions = []\n",
        "\n",
        "        for pert in perturbations:\n",
        "            perturbed_img = perturb_image(img_for_perturbation,pert,superpixels)\n",
        "            perturbed_batch = transforms.ToTensor()(perturbed_img).unsqueeze_(0)\n",
        "            perturbed_batch = perturbed_batch.float()\n",
        "            perturbed_batch = perturbed_batch.to(device)\n",
        "\n",
        "            net1_loaded.eval()\n",
        "\n",
        "            pred = net1_loaded(perturbed_batch)\n",
        "            pred = pred.detach()\n",
        "            predictions.append(np.array(pred.cpu()))\n",
        "\n",
        "            probabilities = torch.nn.functional.softmax(pred[0], dim=0)\n",
        "\n",
        "        predictions = np.array(predictions)\n",
        "\n",
        "        original_image = np.ones(num_superpixels) \n",
        "        original_image = original_image[np.newaxis,:]\n",
        "        distances = sklearn.metrics.pairwise_distances(perturbations,original_image, metric='l2').ravel()\n",
        "\n",
        "        kernel_width = 0.25\n",
        "        weights = np.exp(-(distances**2)/kernel_width**2) #Kernel function\n",
        "        if ULIME == 1:\n",
        "          weights = np.ones(weights.shape[0]) \n",
        "\n",
        "        class_to_explain = img_class\n",
        "        simpler_model = LinearRegression()\n",
        "        simpler_model.fit(X=perturbations, y=predictions[:,:,class_to_explain], sample_weight=weights)\n",
        "        coeff = simpler_model.coef_[0]\n",
        "        coeff_norm = [(float(i)-min(coeff))/(max(coeff)-min(coeff)) for i in coeff]\n",
        "        coeff_list.append(coeff_norm)\n",
        "        # [[coeffs for 1st pert num], [coeffs for 2nd pert num], [coeffs for 3rd pert num] ... [coeffs for 12th pert num]]\n",
        "\n",
        "    coeffs_list.append(coeff_list)\n",
        "    #[[all coeffs run 1], [all coeffs run 2] ... [all coeffs run 10]]"
      ],
      "execution_count": 21,
      "outputs": [
        {
          "output_type": "stream",
          "name": "stdout",
          "text": [
            "RUN:  1\n",
            "RUN:  2\n",
            "RUN:  3\n",
            "RUN:  4\n",
            "RUN:  5\n",
            "RUN:  6\n",
            "RUN:  7\n",
            "RUN:  8\n",
            "RUN:  9\n",
            "RUN:  10\n"
          ]
        }
      ]
    },
    {
      "cell_type": "markdown",
      "metadata": {
        "id": "EZcp3yceZxu9"
      },
      "source": [
        "### **Save coefficients in a file**"
      ]
    },
    {
      "cell_type": "code",
      "metadata": {
        "id": "9GL45xkUPhRJ"
      },
      "source": [
        "fc= open(save_folder+\"/coeffs_list.txt\",\"w+\")\n",
        "fc.write(\"Class: \"+str(img_class))\n",
        "fc.write(\"\\n\")\n",
        "fc.write(str(coeffs_list))\n",
        "fc.write(\"\\n\\n\")\n",
        "fc.close()"
      ],
      "execution_count": 22,
      "outputs": []
    },
    {
      "cell_type": "markdown",
      "metadata": {
        "id": "heZiOulCZ7z6"
      },
      "source": [
        "### **(LnO) Find the classification values as *k* increases from *1* to *N***"
      ]
    },
    {
      "cell_type": "code",
      "metadata": {
        "id": "6k-RGW_EPr2i"
      },
      "source": [
        "probability_list_run = []\n",
        "probability_list_pert = []\n",
        "for i in range(RUNS): #Runs\n",
        "    probability_list_pert=[]\n",
        "    for j in range(len(perturbations_quantity)): #Perturbations\n",
        "        probability_list_n=[]\n",
        "\n",
        "        for k in range(0, len(coeffs_list[i][j])+1): #Coefficients\n",
        "            num_top_features = k\n",
        "            if num_top_features == 0:\n",
        "                top_features = []\n",
        "            else:\n",
        "                top_features = np.argsort(coeffs_list[i][j])[-num_top_features:] \n",
        "\n",
        "            mask = np.ones(num_superpixels) \n",
        "            mask[top_features]= False\n",
        "            explanation = perturb_image(img_for_perturbation,mask,superpixels)\n",
        "\n",
        "            perturbed_batch = transforms.ToTensor()(explanation).unsqueeze_(0)\n",
        "            perturbed_batch = perturbed_batch.float()\n",
        "\n",
        "            net1_loaded.eval()\n",
        "            outputs = net1_loaded(perturbed_batch.to(device))\n",
        "            probabilities = torch.nn.functional.softmax(outputs[0], dim=0)\n",
        "            probability_list_n.append(np.array(probabilities.detach().cpu())[img_class])\n",
        "\n",
        "        probability_list_pert.append(probability_list_n)\n",
        "    probability_list_run.append(probability_list_pert)"
      ],
      "execution_count": 23,
      "outputs": []
    },
    {
      "cell_type": "markdown",
      "metadata": {
        "id": "7UseXv6_afw9"
      },
      "source": [
        "### **Save LnO values in a file**"
      ]
    },
    {
      "cell_type": "code",
      "metadata": {
        "id": "fYV1Dq0_PyNQ"
      },
      "source": [
        "f= open(save_folder+\"/LnO.txt\",\"w+\")\n",
        "for i in range(RUNS):\n",
        "    f.write(\"RUN: %d\\n\\n\" % i)\n",
        "    for j in range(len(perturbations_quantity)):\n",
        "        f.write(\"PERTURBATION: %d\\n\" % perturbations_quantity[j])\n",
        "        f.write(str(probability_list_run[i][j]))\n",
        "        f.write(\"\\n\")\n",
        "f.close()"
      ],
      "execution_count": 24,
      "outputs": []
    },
    {
      "cell_type": "markdown",
      "metadata": {
        "id": "brO4U7C8a1bW"
      },
      "source": [
        "### **Rearrange LnO values for graphing**"
      ]
    },
    {
      "cell_type": "code",
      "metadata": {
        "colab": {
          "base_uri": "https://localhost:8080/"
        },
        "id": "q0xr_8p3P2M7",
        "outputId": "1ed4fb3a-85ce-47a6-fe4e-2f128e7c91a3"
      },
      "source": [
        "n_list = [n for n in range(num_superpixels+1)]\n",
        "_list1 = []\n",
        "_list2 = []\n",
        "\n",
        "for j in range(len(perturbations_quantity)):\n",
        "    _list1=[]\n",
        "    for i in range(RUNS):\n",
        "        _list1.append(probability_list_run[i][j])\n",
        "    _list2.append(_list1)\n",
        "print(len(_list2[0][0]))"
      ],
      "execution_count": 25,
      "outputs": [
        {
          "output_type": "stream",
          "name": "stdout",
          "text": [
            "21\n"
          ]
        }
      ]
    },
    {
      "cell_type": "markdown",
      "metadata": {
        "id": "9DFpDt8ybckE"
      },
      "source": [
        "### **Graph LnO Values**\n",
        "#### **1st loop graphs each LnO individually**\n",
        "#### **2nd loop graphs them together** "
      ]
    },
    {
      "cell_type": "code",
      "metadata": {
        "id": "HWKW42OWQI9l"
      },
      "source": [
        "os.mkdir(save_folder+'/LnO')\n",
        "for j in range(len(perturbations_quantity)):\n",
        "    os.mkdir(save_folder+'/LnO/'+str(perturbations_quantity[j]))\n",
        "    for i in range(RUNS):\n",
        "        plt.xlabel(\"n\")\n",
        "        plt.ylabel(\"LnO Accuracy\")\n",
        "        plt.plot(n_list, _list2[j][i])\n",
        "        plt.savefig(save_folder+'/LnO/'+str(perturbations_quantity[j])+\"/run_\"+str(i)+'.png', bbox_inches='tight')\n",
        "        plt.close()\n",
        "\n",
        "for j in range(len(perturbations_quantity)):\n",
        "    for i in range(RUNS):\n",
        "        plt.xlabel(\"n\")\n",
        "        plt.ylabel(\"LnO Accuracy\")\n",
        "        plt.plot(n_list, _list2[j][i])\n",
        "    plt.savefig(save_folder+'/LnO/'+str(perturbations_quantity[j])+\"/all_runs.png\", bbox_inches='tight')\n",
        "    plt.close()"
      ],
      "execution_count": 26,
      "outputs": []
    },
    {
      "cell_type": "markdown",
      "metadata": {
        "id": "Cxdn3sQVb4OK"
      },
      "source": [
        "### **Plot Heatmaps of the explanations using saved coefficients**"
      ]
    },
    {
      "cell_type": "code",
      "metadata": {
        "id": "Pdt1mZ5eQMnv"
      },
      "source": [
        "def heatmap_image(img,c_list,segments):\n",
        "    num_superpixels = np.unique(segments).shape[0]\n",
        "    mask = np.zeros(segments.shape)\n",
        "    for i in range(num_superpixels):\n",
        "        mask[segments == i] = c_list[i] \n",
        "    return mask\n",
        "\n",
        "os.mkdir(save_folder+\"/heatmaps\")\n",
        "for i in range(RUNS):\n",
        "    os.mkdir(save_folder+\"/heatmaps/\"+\"RUN \"+str(i))\n",
        "    for j in range(len(perturbations_quantity)):\n",
        "        heat_img = heatmap_image(img_for_perturbation,coeffs_list[i][j],superpixels)\n",
        "        plt.imshow(heat_img)\n",
        "        plt.axis('off')\n",
        "        plt.savefig(save_folder+\"/heatmaps/\"+\"RUN \"+str(i)+\"/\"+str(perturbations_quantity[j])+\".png\", bbox_inches='tight')\n",
        "        plt.close()"
      ],
      "execution_count": 27,
      "outputs": []
    },
    {
      "cell_type": "markdown",
      "metadata": {
        "id": "zoEWgVTBcEph"
      },
      "source": [
        "### **Rearrange coefficients for graphing variance**"
      ]
    },
    {
      "cell_type": "code",
      "metadata": {
        "id": "6SKc1Lm6QVSW"
      },
      "source": [
        "l1=[]\n",
        "l2=[]\n",
        "l3=[]\n",
        "\n",
        "for j in range(len(perturbations_quantity)): #Pick perturbation number\n",
        "    for k in range(len(probability_list_run[0][0])-1): #Coefficients\n",
        "        for i in range(RUNS): \n",
        "            l1.append(coeffs_list[i][j][k]) #List of kth coeff of all runs for perturbation j \n",
        "        l2.append(l1) #List all coeffs for perturbation j \n",
        "        l1=[]\n",
        "    l3.append(l2) #List of all perturbations \n",
        "    l2 = []"
      ],
      "execution_count": 28,
      "outputs": []
    },
    {
      "cell_type": "markdown",
      "metadata": {
        "id": "g5JnPgkOcO4x"
      },
      "source": [
        "### **Graph Variance**"
      ]
    },
    {
      "cell_type": "code",
      "metadata": {
        "colab": {
          "base_uri": "https://localhost:8080/",
          "height": 415
        },
        "id": "Xkztnm9BQczf",
        "outputId": "1f3ebd4f-1d06-4207-f713-c92dd26be1cf"
      },
      "source": [
        "total_var_l = []\n",
        "total_mean_l = []\n",
        "f= open(save_folder+\"/pert_var.txt\",\"w+\")\n",
        "for k in range(len(perturbations_quantity)):\n",
        "    print(\"Perturbation: \", perturbations_quantity[k],\"\\n\")\n",
        "    f.write(\"Perturbation: \" + str(perturbations_quantity[k]) +\"\\n\")\n",
        "    total_var = 0\n",
        "    total_mean = 0\n",
        "    for i in range(len(l3[k])): #go through all coefficients\n",
        "        total_var += np.var(l3[k][i])\n",
        "        total_mean += np.mean(l3[k][i])\n",
        "        for j in range(i+1, len(l3[k])):\n",
        "            total_var += 2 * np.cov(l3[k][i], l3[k][j], ddof=0)[0][1] #Extract covariance value from covariance matrix\n",
        "    print(\"Mean: \", total_mean)\n",
        "    print(\"Var: \",total_var)\n",
        "    f.write(\"Mean: \"+str(total_mean)+\"\\n\")\n",
        "    f.write(\"Var: \"+str(total_var)+\"\\n\")\n",
        "    total_var_l.append(total_var)\n",
        "f.close()\n",
        "\n",
        "plt.xlabel(\"Perturbations\")\n",
        "plt.ylabel(\"Variance\")\n",
        "plt.plot(perturbations_quantity, total_var_l)\n",
        "plt.savefig(save_folder+'/pert_var.png', bbox_inches='tight')"
      ],
      "execution_count": 29,
      "outputs": [
        {
          "output_type": "stream",
          "name": "stdout",
          "text": [
            "Perturbation:  10 \n",
            "\n",
            "Mean:  10.543958222175258\n",
            "Var:  4.567239636501927\n",
            "Perturbation:  50 \n",
            "\n",
            "Mean:  9.253257190820545\n",
            "Var:  1.0693469213251743\n"
          ]
        },
        {
          "output_type": "display_data",
          "data": {
            "image/png": "[encoded data removed]",
            "text/plain": [
              "<Figure size 432x288 with 1 Axes>"
            ]
          },
          "metadata": {
            "needs_background": "light"
          }
        }
      ]
    },
    {
      "cell_type": "code",
      "metadata": {
        "id": "BmVwVfkMi2Hy"
      },
      "source": [
        ""
      ],
      "execution_count": null,
      "outputs": []
    }
  ]
}